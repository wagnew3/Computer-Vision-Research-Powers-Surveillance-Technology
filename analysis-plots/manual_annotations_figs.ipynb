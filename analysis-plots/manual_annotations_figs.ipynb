{
 "cells": [
  {
   "cell_type": "code",
   "execution_count": null,
   "id": "bd22a139-a47a-4ede-afe0-e9ed5b0f2b19",
   "metadata": {},
   "outputs": [],
   "source": [
    "from pathlib import Path\n",
    "\n",
    "### Paths\n",
    "data_path = Path('').parent.absolute()\n",
    "paper_annotations_path = data_path / 'analysis/manual_papers_coding.csv'\n",
    "patent_annotations_path = data_path / 'analysis/manual_patents_coding.csv'\n",
    "(figs_dir := data_path / 'figures').mkdir(exist_ok=True)"
   ]
  },
  {
   "cell_type": "code",
   "execution_count": null,
   "id": "22fc008a-d904-44cf-8948-aa38d64d12af",
   "metadata": {},
   "outputs": [],
   "source": [
    "### Imports\n",
    "%load_ext autoreload\n",
    "%autoreload 2\n",
    "import os\n",
    "import pandas as pd\n",
    "from pandas import DataFrame\n",
    "import plotly.express as px\n",
    "import plotly\n",
    "import plotly.io as pio; pio.renderers.default = \"iframe\""
   ]
  },
  {
   "cell_type": "code",
   "execution_count": null,
   "id": "774f0786-92da-49b7-939b-73a6be82784a",
   "metadata": {
    "tags": []
   },
   "outputs": [],
   "source": [
    "### Load and clean data\n",
    "# Load\n",
    "papers = pd.read_csv(paper_annotations_path)\n",
    "papers['Doc_type'] = 'paper'\n",
    "patents = pd.read_csv(patent_annotations_path)\n",
    "patents['Doc_type'] = 'patent'\n",
    "docs = pd.concat([papers, patents], ignore_index=True)  # combine papers and patents\n",
    "\n",
    "# Clean\n",
    "docs = docs.replace({\n",
    "    'Traces of socially significant human data (e.g. location, friends, cultural identity, preferences)': 'Salient traces',\n",
    "    'Traces of human data (e.g. an engineer\\'s blueprints)': 'Unspecified',\n",
    "    'Unspecified data (provides no indication of applications)': 'Unspecified',\n",
    "    'Unspecified data (does not state whether can be used for human data)': 'Unspecified'},)\n",
    "categories = ['Human body parts', 'Human bodies', 'Human spaces', 'Salient traces', 'Unspecified', 'Non-human data']\n",
    "annotations = docs.copy()\n",
    "annotations['Data'] = annotations['label']"
   ]
  },
  {
   "cell_type": "code",
   "execution_count": null,
   "id": "da386a8f-7a0d-46ff-a83a-7a40a5fccdb3",
   "metadata": {
    "tags": []
   },
   "outputs": [],
   "source": [
    "### Visualize pie chart\n",
    "# Get counts\n",
    "counts = annotations['Data'].value_counts()\n",
    "counts = pd.DataFrame({'Data':counts.index, 'Count':counts.values})\n",
    "\n",
    "# Sort order of pie slices\n",
    "counts['data_index'] = counts.Data.apply(lambda data: categories.index(data))  \n",
    "counts = counts.sort_values('data_index')\n",
    "\n",
    "# Visualize\n",
    "fig = px.pie(\n",
    "    counts, names='Data', values='Count', hover_name='Data', \n",
    "    width=500, height=500, color_discrete_sequence=['#AA1600', '#FF4000', '#FF7C00', '#FFA200'] + ['white', 'black'])\n",
    "fig.update_layout(showlegend=False, font_size=15, paper_bgcolor='rgba(0,0,0,0)', plot_bgcolor='rgba(0,0,0,0)')\n",
    "fig.update_traces(textinfo='percent+label', rotation=0, insidetextorientation='horizontal', textfont_size=14, sort=False, marker=dict(line=dict(color='white', width=1)))\n",
    "plotly.io.write_image(fig, os.path.join(figs_dir, f'pie.png'),scale=10)\n",
    "display(fig)"
   ]
  },
  {
   "cell_type": "code",
   "execution_count": null,
   "id": "2aae3325-7d4f-4869-921f-198e867fd287",
   "metadata": {},
   "outputs": [],
   "source": []
  }
 ],
 "metadata": {
  "kernelspec": {
   "display_name": "Python 3 (ipykernel)",
   "language": "python",
   "name": "python3"
  },
  "language_info": {
   "codemirror_mode": {
    "name": "ipython",
    "version": 3
   },
   "file_extension": ".py",
   "mimetype": "text/x-python",
   "name": "python",
   "nbconvert_exporter": "python",
   "pygments_lexer": "ipython3",
   "version": "3.9.18"
  }
 },
 "nbformat": 4,
 "nbformat_minor": 5
}
