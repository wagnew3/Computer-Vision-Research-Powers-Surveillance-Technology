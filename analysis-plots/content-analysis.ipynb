{
 "cells": [
  {
   "cell_type": "code",
   "execution_count": null,
   "metadata": {},
   "outputs": [],
   "source": [
    "!pip install plotly pandas numpy nbformat scikit-learn"
   ]
  },
  {
   "cell_type": "code",
   "execution_count": null,
   "metadata": {},
   "outputs": [],
   "source": [
    "### Imports\n",
    "%load_ext autoreload\n",
    "%autoreload 2\n",
    "import os\n",
    "import pandas as pd\n",
    "from pandas import DataFrame\n",
    "import plotly.express as px\n",
    "import plotly\n",
    "import plotly.io as pio; pio.renderers.default = \"iframe\"\n",
    "import numpy as np\n",
    "from pathlib import Path\n",
    "\n",
    "np.random.seed(1991)"
   ]
  },
  {
   "cell_type": "code",
   "execution_count": null,
   "metadata": {},
   "outputs": [],
   "source": [
    "### Paths\n",
    "src_path = Path('').parent.absolute()\n",
    "paper_annotations_path = src_path / 'data/manual_papers_coding.csv'\n",
    "patent_annotations_path = src_path / 'data/manual_patents_coding.csv'\n",
    "figs_dir = src_path / 'figures'\n",
    "figs_dir.mkdir(exist_ok=True)\n",
    "\n",
    "### Parameter of analysis\n",
    "doc_type = 'all'  # Can be paper, patent, or all. Only this slice of the date will be used to calculate the pie chart"
   ]
  },
  {
   "cell_type": "code",
   "execution_count": null,
   "metadata": {},
   "outputs": [],
   "source": [
    "### Load and clean data\n",
    "# Load\n",
    "papers = pd.read_csv(paper_annotations_path)\n",
    "papers['Doc_type'] = 'paper'\n",
    "patents = pd.read_csv(patent_annotations_path)\n",
    "patents['Doc_type'] = 'patent'\n",
    "papers_and_patents = pd.concat([papers, patents], ignore_index=True)  # combine papers and patents\n",
    "docs = dict(paper=papers, patent=patents, all=papers_and_patents)[doc_type]\n",
    "\n",
    "# Clean\n",
    "docs = docs.replace({\n",
    "    'Traces of socially significant human data (e.g. location, friends, cultural identity, preferences)': 'Salient traces',\n",
    "    'Traces of human data (e.g. an engineer\\'s blueprints)': 'Unspecified',\n",
    "    'Unspecified data (provides no indication of applications)': 'Unspecified',\n",
    "    'Unspecified data (does not state whether can be used for human data)': 'Unspecified'})\n",
    "data = docs.copy()\n",
    "data['Data'] = data['label']\n",
    "categories = data['Data'].unique().tolist()\n",
    "\n",
    "# Compute percentages\n",
    "percentages = data['label'].value_counts(normalize=True)\n",
    "percentages = percentages.to_dict()"
   ]
  },
  {
   "cell_type": "code",
   "execution_count": null,
   "metadata": {},
   "outputs": [],
   "source": [
    "# now compute standard deviations; we will use bootstrapping over k samples (k=1000)\n",
    "# to get a distribution of the percentages\n",
    "import collections\n",
    "\n",
    "labels_map = {k: i for i, k in enumerate(percentages.keys())}\n",
    "reverse_labels_map = {v: k for k, v in labels_map.items()}\n",
    "labels_to_sample = np.array([labels_map[l] for l in data['label'].tolist()])\n",
    "\n",
    "# now sample 1000 times with replacement\n",
    "k = 1000\n",
    "\n",
    "samples_labels = {}\n",
    "\n",
    "for _ in range(k):\n",
    "    sample = np.random.choice(labels_to_sample, len(labels_to_sample), replace=True)\n",
    "    counts = collections.Counter(sample)\n",
    "    for k, v in counts.items():\n",
    "        if k not in samples_labels:\n",
    "            samples_labels[k] = []\n",
    "        samples_labels[k].append(v / len(sample))\n",
    "\n",
    "print('Total annotations:', len(data))\n",
    "for l, v in sorted(percentages.items(), key=lambda x: -x[1]):\n",
    "    k = labels_map[l]\n",
    "    print (f'{l}:\\t{v * 100:.1f}±{np.std(samples_labels[k]):.1%}')"
   ]
  },
  {
   "cell_type": "code",
   "execution_count": null,
   "metadata": {
    "tags": []
   },
   "outputs": [],
   "source": [
    "### Visualize pie chart\n",
    "labels = ['Human body parts', 'Human bodies', 'Human spaces', 'Salient traces', 'Unspecified', 'Non-human data']  # in desired order for visualization\n",
    "pretty_labels = list(map(lambda l: l.replace(' ', '<br>'), labels))\n",
    "fig = px.pie(\n",
    "    names=pretty_labels, values=[percentages[label] for label in labels], \n",
    "    width=500, height=500, color_discrete_sequence=['#AA1600', '#FF4000', '#FF7C00', '#FFA200'] + ['white', 'black'])\n",
    "fig.update_layout(showlegend=False, font_size=15, paper_bgcolor='rgba(0,0,0,0)', plot_bgcolor='rgba(0,0,0,0)')\n",
    "fig.update_traces(textinfo='percent+label', rotation=0, insidetextorientation='horizontal', textfont_size=14, sort=False, marker=dict(line=dict(color='white', width=1)))\n",
    "plotly.io.write_image(fig, os.path.join(figs_dir, f'pie.png'),scale=10)\n",
    "fig.show()"
   ]
  }
 ],
 "metadata": {
  "kernelspec": {
   "display_name": "whatisai-final",
   "language": "python",
   "name": "whatisai-final"
  },
  "language_info": {
   "codemirror_mode": {
    "name": "ipython",
    "version": 3
   },
   "file_extension": ".py",
   "mimetype": "text/x-python",
   "name": "python",
   "nbconvert_exporter": "python",
   "pygments_lexer": "ipython3",
   "version": "3.13.3"
  }
 },
 "nbformat": 4,
 "nbformat_minor": 4
}
