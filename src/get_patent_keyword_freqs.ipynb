{
 "cells": [
  {
   "cell_type": "code",
   "execution_count": null,
   "id": "0f01ce83-cdd4-433d-aa60-110cc20c01f9",
   "metadata": {},
   "outputs": [],
   "source": [
    "import compress_pickle as pickle\n",
    "import pandas as pd\n",
    "import numpy as np\n",
    "import os\n",
    "from tqdm import tqdm\n",
    "\n",
    "patents_info_dict={}\n",
    "agg_data_dir=\"/media/willie/1caf5422-4135-4f2c-9619-c44041b51146/microsfot_academic_graph/data/patents\" \n",
    "for agg_file in tqdm(os.listdir(agg_data_dir)):\n",
    "    patent_info_sub=pickle.load(os.path.join(agg_data_dir, agg_file))\n",
    "    patents_info_dict[agg_file[:-4]]=patent_info_sub\n",
    "print(f\"{len(patents_info_dict)} patents\")"
   ]
  },
  {
   "cell_type": "code",
   "execution_count": null,
   "id": "76719faa-84f3-4957-b431-00de8689331c",
   "metadata": {},
   "outputs": [],
   "source": []
  },
  {
   "cell_type": "code",
   "execution_count": null,
   "id": "f34a7444-15fc-429a-9429-8ff6867737dc",
   "metadata": {},
   "outputs": [],
   "source": [
    "import compress_pickle as pickle\n",
    "import pandas as pd\n",
    "import numpy as np\n",
    "import os\n",
    "from tqdm import tqdm\n",
    "\n",
    "patents_info_dict={}\n",
    "agg_data_dir=\"/media/willie/1caf5422-4135-4f2c-9619-c44041b51146/microsfot_academic_graph/data/patents\" \n",
    "for agg_file in tqdm(os.listdir(agg_data_dir)):\n",
    "    patent_info_sub=pickle.load(os.path.join(agg_data_dir, agg_file))\n",
    "    patents_info_dict[agg_file[:-4]]=patent_info_sub\n",
    "print(f\"{len(patents_info_dict)} patents\")"
   ]
  }
 ],
 "metadata": {
  "kernelspec": {
   "display_name": "Python 3 (ipykernel)",
   "language": "python",
   "name": "python3"
  },
  "language_info": {
   "codemirror_mode": {
    "name": "ipython",
    "version": 3
   },
   "file_extension": ".py",
   "mimetype": "text/x-python",
   "name": "python",
   "nbconvert_exporter": "python",
   "pygments_lexer": "ipython3",
   "version": "3.8.12"
  }
 },
 "nbformat": 4,
 "nbformat_minor": 5
}
