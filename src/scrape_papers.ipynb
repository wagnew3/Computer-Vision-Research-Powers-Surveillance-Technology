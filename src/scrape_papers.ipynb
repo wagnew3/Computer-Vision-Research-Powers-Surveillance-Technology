{
 "cells": [
  {
   "cell_type": "code",
   "execution_count": 3,
   "id": "95030e84-54d8-4f12-a6b3-3cc5aed465de",
   "metadata": {},
   "outputs": [
    {
     "name": "stderr",
     "output_type": "stream",
     "text": [
      "  0%|                                                                                      | 0/43 [00:00<?, ?it/s]"
     ]
    },
    {
     "name": "stdout",
     "output_type": "stream",
     "text": [
      "http://openaccess.thecvf.com/CVPR1980.py\n"
     ]
    },
    {
     "name": "stderr",
     "output_type": "stream",
     "text": [
      "  2%|█▊                                                                            | 1/43 [00:00<00:19,  2.15it/s]"
     ]
    },
    {
     "name": "stdout",
     "output_type": "stream",
     "text": [
      "http://openaccess.thecvf.com/CVPR1981.py\n"
     ]
    },
    {
     "name": "stderr",
     "output_type": "stream",
     "text": [
      "  5%|███▋                                                                          | 2/43 [00:00<00:15,  2.68it/s]"
     ]
    },
    {
     "name": "stdout",
     "output_type": "stream",
     "text": [
      "http://openaccess.thecvf.com/CVPR1982.py\n"
     ]
    },
    {
     "name": "stderr",
     "output_type": "stream",
     "text": [
      "  7%|█████▍                                                                        | 3/43 [00:01<00:13,  2.90it/s]"
     ]
    },
    {
     "name": "stdout",
     "output_type": "stream",
     "text": [
      "http://openaccess.thecvf.com/CVPR1983.py\n"
     ]
    },
    {
     "name": "stderr",
     "output_type": "stream",
     "text": [
      "  9%|███████▎                                                                      | 4/43 [00:01<00:12,  3.02it/s]"
     ]
    },
    {
     "name": "stdout",
     "output_type": "stream",
     "text": [
      "http://openaccess.thecvf.com/CVPR1984.py\n"
     ]
    },
    {
     "name": "stderr",
     "output_type": "stream",
     "text": [
      " 12%|█████████                                                                     | 5/43 [00:01<00:12,  3.08it/s]"
     ]
    },
    {
     "name": "stdout",
     "output_type": "stream",
     "text": [
      "http://openaccess.thecvf.com/CVPR1985.py\n"
     ]
    },
    {
     "name": "stderr",
     "output_type": "stream",
     "text": [
      " 14%|██████████▉                                                                   | 6/43 [00:02<00:11,  3.12it/s]"
     ]
    },
    {
     "name": "stdout",
     "output_type": "stream",
     "text": [
      "http://openaccess.thecvf.com/CVPR1986.py\n"
     ]
    },
    {
     "name": "stderr",
     "output_type": "stream",
     "text": [
      " 16%|████████████▋                                                                 | 7/43 [00:02<00:11,  3.18it/s]"
     ]
    },
    {
     "name": "stdout",
     "output_type": "stream",
     "text": [
      "http://openaccess.thecvf.com/CVPR1987.py\n"
     ]
    },
    {
     "name": "stderr",
     "output_type": "stream",
     "text": [
      " 19%|██████████████▌                                                               | 8/43 [00:02<00:10,  3.21it/s]"
     ]
    },
    {
     "name": "stdout",
     "output_type": "stream",
     "text": [
      "http://openaccess.thecvf.com/CVPR1988.py\n"
     ]
    },
    {
     "name": "stderr",
     "output_type": "stream",
     "text": [
      " 21%|████████████████▎                                                             | 9/43 [00:02<00:10,  3.22it/s]"
     ]
    },
    {
     "name": "stdout",
     "output_type": "stream",
     "text": [
      "http://openaccess.thecvf.com/CVPR1989.py\n"
     ]
    },
    {
     "name": "stderr",
     "output_type": "stream",
     "text": [
      " 23%|█████████████████▉                                                           | 10/43 [00:03<00:10,  3.24it/s]"
     ]
    },
    {
     "name": "stdout",
     "output_type": "stream",
     "text": [
      "http://openaccess.thecvf.com/CVPR1990.py\n"
     ]
    },
    {
     "name": "stderr",
     "output_type": "stream",
     "text": [
      " 26%|███████████████████▋                                                         | 11/43 [00:03<00:09,  3.23it/s]"
     ]
    },
    {
     "name": "stdout",
     "output_type": "stream",
     "text": [
      "http://openaccess.thecvf.com/CVPR1991.py\n"
     ]
    },
    {
     "name": "stderr",
     "output_type": "stream",
     "text": [
      " 28%|█████████████████████▍                                                       | 12/43 [00:03<00:09,  3.23it/s]"
     ]
    },
    {
     "name": "stdout",
     "output_type": "stream",
     "text": [
      "http://openaccess.thecvf.com/CVPR1992.py\n"
     ]
    },
    {
     "name": "stderr",
     "output_type": "stream",
     "text": [
      " 30%|███████████████████████▎                                                     | 13/43 [00:04<00:09,  3.25it/s]"
     ]
    },
    {
     "name": "stdout",
     "output_type": "stream",
     "text": [
      "http://openaccess.thecvf.com/CVPR1993.py\n"
     ]
    },
    {
     "name": "stderr",
     "output_type": "stream",
     "text": [
      " 33%|█████████████████████████                                                    | 14/43 [00:04<00:08,  3.23it/s]"
     ]
    },
    {
     "name": "stdout",
     "output_type": "stream",
     "text": [
      "http://openaccess.thecvf.com/CVPR1994.py\n"
     ]
    },
    {
     "name": "stderr",
     "output_type": "stream",
     "text": [
      " 35%|██████████████████████████▊                                                  | 15/43 [00:04<00:08,  3.25it/s]"
     ]
    },
    {
     "name": "stdout",
     "output_type": "stream",
     "text": [
      "http://openaccess.thecvf.com/CVPR1995.py\n"
     ]
    },
    {
     "name": "stderr",
     "output_type": "stream",
     "text": [
      " 37%|████████████████████████████▋                                                | 16/43 [00:05<00:08,  3.24it/s]"
     ]
    },
    {
     "name": "stdout",
     "output_type": "stream",
     "text": [
      "http://openaccess.thecvf.com/CVPR1996.py\n"
     ]
    },
    {
     "name": "stderr",
     "output_type": "stream",
     "text": [
      " 40%|██████████████████████████████▍                                              | 17/43 [00:05<00:08,  3.23it/s]"
     ]
    },
    {
     "name": "stdout",
     "output_type": "stream",
     "text": [
      "http://openaccess.thecvf.com/CVPR1997.py\n"
     ]
    },
    {
     "name": "stderr",
     "output_type": "stream",
     "text": [
      " 42%|████████████████████████████████▏                                            | 18/43 [00:05<00:07,  3.22it/s]"
     ]
    },
    {
     "name": "stdout",
     "output_type": "stream",
     "text": [
      "http://openaccess.thecvf.com/CVPR1998.py\n"
     ]
    },
    {
     "name": "stderr",
     "output_type": "stream",
     "text": [
      " 44%|██████████████████████████████████                                           | 19/43 [00:06<00:07,  3.23it/s]"
     ]
    },
    {
     "name": "stdout",
     "output_type": "stream",
     "text": [
      "http://openaccess.thecvf.com/CVPR1999.py\n"
     ]
    },
    {
     "name": "stderr",
     "output_type": "stream",
     "text": [
      " 47%|███████████████████████████████████▊                                         | 20/43 [00:06<00:07,  3.23it/s]"
     ]
    },
    {
     "name": "stdout",
     "output_type": "stream",
     "text": [
      "http://openaccess.thecvf.com/CVPR2000.py\n"
     ]
    },
    {
     "name": "stderr",
     "output_type": "stream",
     "text": [
      " 49%|█████████████████████████████████████▌                                       | 21/43 [00:06<00:06,  3.23it/s]"
     ]
    },
    {
     "name": "stdout",
     "output_type": "stream",
     "text": [
      "http://openaccess.thecvf.com/CVPR2001.py\n"
     ]
    },
    {
     "name": "stderr",
     "output_type": "stream",
     "text": [
      " 51%|███████████████████████████████████████▍                                     | 22/43 [00:06<00:06,  3.22it/s]"
     ]
    },
    {
     "name": "stdout",
     "output_type": "stream",
     "text": [
      "http://openaccess.thecvf.com/CVPR2002.py\n"
     ]
    },
    {
     "name": "stderr",
     "output_type": "stream",
     "text": [
      " 53%|█████████████████████████████████████████▏                                   | 23/43 [00:07<00:06,  3.21it/s]"
     ]
    },
    {
     "name": "stdout",
     "output_type": "stream",
     "text": [
      "http://openaccess.thecvf.com/CVPR2003.py\n"
     ]
    },
    {
     "name": "stderr",
     "output_type": "stream",
     "text": [
      " 56%|██████████████████████████████████████████▉                                  | 24/43 [00:07<00:05,  3.23it/s]"
     ]
    },
    {
     "name": "stdout",
     "output_type": "stream",
     "text": [
      "http://openaccess.thecvf.com/CVPR2004.py\n"
     ]
    },
    {
     "name": "stderr",
     "output_type": "stream",
     "text": [
      " 58%|████████████████████████████████████████████▊                                | 25/43 [00:07<00:05,  3.22it/s]"
     ]
    },
    {
     "name": "stdout",
     "output_type": "stream",
     "text": [
      "http://openaccess.thecvf.com/CVPR2005.py\n"
     ]
    },
    {
     "name": "stderr",
     "output_type": "stream",
     "text": [
      " 60%|██████████████████████████████████████████████▌                              | 26/43 [00:08<00:05,  3.24it/s]"
     ]
    },
    {
     "name": "stdout",
     "output_type": "stream",
     "text": [
      "http://openaccess.thecvf.com/CVPR2006.py\n"
     ]
    },
    {
     "name": "stderr",
     "output_type": "stream",
     "text": [
      " 63%|████████████████████████████████████████████████▎                            | 27/43 [00:08<00:04,  3.23it/s]"
     ]
    },
    {
     "name": "stdout",
     "output_type": "stream",
     "text": [
      "http://openaccess.thecvf.com/CVPR2007.py\n"
     ]
    },
    {
     "name": "stderr",
     "output_type": "stream",
     "text": [
      " 65%|██████████████████████████████████████████████████▏                          | 28/43 [00:08<00:04,  3.24it/s]"
     ]
    },
    {
     "name": "stdout",
     "output_type": "stream",
     "text": [
      "http://openaccess.thecvf.com/CVPR2008.py\n"
     ]
    },
    {
     "name": "stderr",
     "output_type": "stream",
     "text": [
      " 67%|███████████████████████████████████████████████████▉                         | 29/43 [00:09<00:04,  3.26it/s]"
     ]
    },
    {
     "name": "stdout",
     "output_type": "stream",
     "text": [
      "http://openaccess.thecvf.com/CVPR2009.py\n"
     ]
    },
    {
     "name": "stderr",
     "output_type": "stream",
     "text": [
      " 70%|█████████████████████████████████████████████████████▋                       | 30/43 [00:09<00:03,  3.27it/s]"
     ]
    },
    {
     "name": "stdout",
     "output_type": "stream",
     "text": [
      "http://openaccess.thecvf.com/CVPR2010.py\n"
     ]
    },
    {
     "name": "stderr",
     "output_type": "stream",
     "text": [
      " 72%|███████████████████████████████████████████████████████▌                     | 31/43 [00:09<00:03,  3.28it/s]"
     ]
    },
    {
     "name": "stdout",
     "output_type": "stream",
     "text": [
      "http://openaccess.thecvf.com/CVPR2011.py\n"
     ]
    },
    {
     "name": "stderr",
     "output_type": "stream",
     "text": [
      " 74%|█████████████████████████████████████████████████████████▎                   | 32/43 [00:10<00:03,  3.27it/s]"
     ]
    },
    {
     "name": "stdout",
     "output_type": "stream",
     "text": [
      "http://openaccess.thecvf.com/CVPR2012.py\n"
     ]
    },
    {
     "name": "stderr",
     "output_type": "stream",
     "text": [
      " 77%|███████████████████████████████████████████████████████████                  | 33/43 [00:10<00:03,  3.26it/s]"
     ]
    },
    {
     "name": "stdout",
     "output_type": "stream",
     "text": [
      "http://openaccess.thecvf.com/CVPR2013.py\n",
      "Paper:  https://openaccess.thecvf.com/content_cvpr_2013/papers/Kim_Deformable_Spatial_Pyramid_2013_CVPR_paper.pdf\n",
      "Paper # 1 - Kim_Deformable_Spatial_Pyramid_2013 Done\n",
      "Paper:  https://openaccess.thecvf.com/content_cvpr_2013/papers/Sholomon_A_Genetic_Algorithm-Based_2013_CVPR_paper.pdf\n",
      "Paper # 2 - Sholomon_A_Genetic_Algorithm-Based_2013 Done\n",
      "Paper:  https://openaccess.thecvf.com/content_cvpr_2013/papers/Li_Exploring_Compositional_High_2013_CVPR_paper.pdf\n",
      "Paper # 3 - Li_Exploring_Compositional_High_2013 Done\n",
      "Paper:  https://openaccess.thecvf.com/content_cvpr_2013/papers/Shi_Hyperbolic_Harmonic_Mapping_2013_CVPR_paper.pdf\n",
      "Paper # 4 - Shi_Hyperbolic_Harmonic_Mapping_2013 Done\n",
      "Paper:  https://openaccess.thecvf.com/content_cvpr_2013/papers/Garg_Dense_Variational_Reconstruction_2013_CVPR_paper.pdf\n",
      "Paper # 5 - Garg_Dense_Variational_Reconstruction_2013 Done\n",
      "Paper:  https://openaccess.thecvf.com/content_cvpr_2013/papers/Takeda_Fusing_Depth_from_2013_CVPR_paper.pdf\n",
      "Paper # 6 - Takeda_Fusing_Depth_from_2013 Done\n",
      "Paper:  https://openaccess.thecvf.com/content_cvpr_2013/papers/Rowley-Brooke_A_Non-parametric_Framework_2013_CVPR_paper.pdf\n",
      "Paper # 7 - Rowley-Brooke_A_Non-parametric_Framework_2013 Done\n",
      "Paper:  https://openaccess.thecvf.com/content_cvpr_2013/papers/Kappes_A_Comparative_Study_2013_CVPR_paper.pdf\n",
      "Paper # 8 - Kappes_A_Comparative_Study_2013 Done\n",
      "Paper:  https://openaccess.thecvf.com/content_cvpr_2013/papers/Jiang_Submodular_Salient_Region_2013_CVPR_paper.pdf\n",
      "Paper # 9 - Jiang_Submodular_Salient_Region_2013 Done\n",
      "Paper:  https://openaccess.thecvf.com/content_cvpr_2013/papers/Xia_Spatio-temporal_Depth_Cuboid_2013_CVPR_paper.pdf\n",
      "Paper # 10 - Xia_Spatio-temporal_Depth_Cuboid_2013 Done\n",
      "Paper:  https://openaccess.thecvf.com/content_cvpr_2013/papers/Zitnick_Bringing_Semantics_into_2013_CVPR_paper.pdf\n",
      "Paper # 11 - Zitnick_Bringing_Semantics_into_2013 Done\n",
      "Paper:  https://openaccess.thecvf.com/content_cvpr_2013/papers/Levi_Fast_Multiple-Part_Based_2013_CVPR_paper.pdf\n",
      "Paper # 12 - Levi_Fast_Multiple-Part_Based_2013 Done\n",
      "Paper:  https://openaccess.thecvf.com/content_cvpr_2013/papers/Seo_Computing_Diffeomorphic_Paths_2013_CVPR_paper.pdf\n",
      "Paper # 13 - Seo_Computing_Diffeomorphic_Paths_2013 Done\n",
      "Paper:  https://openaccess.thecvf.com/content_cvpr_2013/papers/Luo_Wide-Baseline_Hair_Capture_2013_CVPR_paper.pdf\n",
      "Paper # 14 - Luo_Wide-Baseline_Hair_Capture_2013 Done\n",
      "Paper:  https://openaccess.thecvf.com/content_cvpr_2013/papers/Brito_Radial_Distortion_Self-Calibration_2013_CVPR_paper.pdf\n",
      "Paper # 15 - Brito_Radial_Distortion_Self-Calibration_2013 Done\n",
      "Paper:  https://openaccess.thecvf.com/content_cvpr_2013/papers/Zontak_Separating_Signal_from_2013_CVPR_paper.pdf\n",
      "Paper # 16 - Zontak_Separating_Signal_from_2013 Done\n",
      "Paper:  https://openaccess.thecvf.com/content_cvpr_2013/papers/Chen_Detection_Evolution_with_2013_CVPR_paper.pdf\n",
      "Paper # 17 - Chen_Detection_Evolution_with_2013 Done\n",
      "Paper:  https://openaccess.thecvf.com/content_cvpr_2013/papers/Ye_Manhattan_Scene_Understanding_2013_CVPR_paper.pdf\n",
      "Paper # 18 - Ye_Manhattan_Scene_Understanding_2013 Done\n",
      "Paper:  https://openaccess.thecvf.com/content_cvpr_2013/papers/Chen_Cumulative_Attribute_Space_2013_CVPR_paper.pdf\n",
      "Paper # 19 - Chen_Cumulative_Attribute_Space_2013 Done\n",
      "Paper:  https://openaccess.thecvf.com/content_cvpr_2013/papers/Myeong_Tensor-Based_High-Order_Semantic_2013_CVPR_paper.pdf\n",
      "Paper # 20 - Myeong_Tensor-Based_High-Order_Semantic_2013 Done\n",
      "Paper:  https://openaccess.thecvf.com/content_cvpr_2013/papers/Hontani_Accurate_and_Robust_2013_CVPR_paper.pdf\n",
      "Paper # 21 - Hontani_Accurate_and_Robust_2013 Done\n",
      "Paper:  https://openaccess.thecvf.com/content_cvpr_2013/papers/Berg_POOF_Part-Based_One-vs.-One_2013_CVPR_paper.pdf\n",
      "Paper # 22 - Berg_POOF_Part-Based_One-vs Done\n",
      "Paper:  https://openaccess.thecvf.com/content_cvpr_2013/papers/Boix_Sparse_Quantization_for_2013_CVPR_paper.pdf\n",
      "Paper # 23 - Boix_Sparse_Quantization_for_2013 Done\n",
      "Paper:  https://openaccess.thecvf.com/content_cvpr_2013/papers/Chen_Whats_in_a_2013_CVPR_paper.pdf\n",
      "Paper # 24 - Chen_Whats_in_a_2013 Done\n",
      "Paper:  https://openaccess.thecvf.com/content_cvpr_2013/papers/Zhu_Context-Aware_Modeling_and_2013_CVPR_paper.pdf\n",
      "Paper # 25 - Zhu_Context-Aware_Modeling_and_2013 Done\n",
      "Paper:  https://openaccess.thecvf.com/content_cvpr_2013/papers/Arteta_Learning_to_Detect_2013_CVPR_paper.pdf\n",
      "Paper # 26 - Arteta_Learning_to_Detect_2013 Done\n",
      "Paper:  https://openaccess.thecvf.com/content_cvpr_2013/papers/Smith_Exemplar-Based_Face_Parsing_2013_CVPR_paper.pdf\n",
      "Paper # 27 - Smith_Exemplar-Based_Face_Parsing_2013 Done\n",
      "Paper:  https://openaccess.thecvf.com/content_cvpr_2013/papers/Bo_Multipath_Sparse_Coding_2013_CVPR_paper.pdf\n",
      "Paper # 28 - Bo_Multipath_Sparse_Coding_2013 Done\n",
      "Paper:  https://openaccess.thecvf.com/content_cvpr_2013/papers/He_Visual_Tracking_via_2013_CVPR_paper.pdf\n",
      "Paper # 29 - He_Visual_Tracking_via_2013 Done\n",
      "Paper:  https://openaccess.thecvf.com/content_cvpr_2013/papers/Ge_Optimized_Product_Quantization_2013_CVPR_paper.pdf\n",
      "Paper # 30 - Ge_Optimized_Product_Quantization_2013 Done\n",
      "Paper:  https://openaccess.thecvf.com/content_cvpr_2013/papers/Baumgartner_Tracking_People_and_2013_CVPR_paper.pdf\n",
      "Paper # 31 - Baumgartner_Tracking_People_and_2013 Done\n",
      "Paper:  https://openaccess.thecvf.com/content_cvpr_2013/papers/Butt_Multi-target_Tracking_by_2013_CVPR_paper.pdf\n",
      "Paper # 32 - Butt_Multi-target_Tracking_by_2013 Done\n",
      "Paper:  https://openaccess.thecvf.com/content_cvpr_2013/papers/Olsson_In_Defense_of_2013_CVPR_paper.pdf\n",
      "Paper # 33 - Olsson_In_Defense_of_2013 Done\n",
      "Paper:  https://openaccess.thecvf.com/content_cvpr_2013/papers/Ottaviano_Compressible_Motion_Fields_2013_CVPR_paper.pdf\n",
      "Paper # 34 - Ottaviano_Compressible_Motion_Fields_2013 Done\n",
      "Paper:  https://openaccess.thecvf.com/content_cvpr_2013/papers/Bao_Dense_Object_Reconstruction_2013_CVPR_paper.pdf\n",
      "Paper # 35 - Bao_Dense_Object_Reconstruction_2013 Done\n",
      "Paper:  https://openaccess.thecvf.com/content_cvpr_2013/papers/Khosla_Large-Scale_Video_Summarization_2013_CVPR_paper.pdf\n",
      "Paper # 36 - Khosla_Large-Scale_Video_Summarization_2013 Done\n",
      "Paper:  https://openaccess.thecvf.com/content_cvpr_2013/papers/Zhou_Deformable_Graph_Matching_2013_CVPR_paper.pdf\n",
      "Paper # 37 - Zhou_Deformable_Graph_Matching_2013 Done\n",
      "Paper:  https://openaccess.thecvf.com/content_cvpr_2013/papers/Chakraborty_3D_Visual_Proxemics_2013_CVPR_paper.pdf\n",
      "Paper # 38 - Chakraborty_3D_Visual_Proxemics_2013 Done\n",
      "Paper:  https://openaccess.thecvf.com/content_cvpr_2013/papers/Chen_Dictionary_Learning_from_2013_CVPR_paper.pdf\n",
      "Paper # 39 - Chen_Dictionary_Learning_from_2013 Done\n",
      "Paper:  https://openaccess.thecvf.com/content_cvpr_2013/papers/Zhu_Graph-Based_Optimization_with_2013_CVPR_paper.pdf\n",
      "Paper # 40 - Zhu_Graph-Based_Optimization_with_2013 Done\n",
      "Paper:  https://openaccess.thecvf.com/content_cvpr_2013/papers/Bristow_Fast_Convolutional_Sparse_2013_CVPR_paper.pdf\n",
      "Paper # 41 - Bristow_Fast_Convolutional_Sparse_2013 Done\n",
      "Paper:  https://openaccess.thecvf.com/content_cvpr_2013/papers/Chi_Block_and_Group_2013_CVPR_paper.pdf\n",
      "Paper # 42 - Chi_Block_and_Group_2013 Done\n",
      "Paper:  https://openaccess.thecvf.com/content_cvpr_2013/papers/Lin_Compressed_Hashing_2013_CVPR_paper.pdf\n",
      "Paper # 43 - Lin_Compressed_Hashing_2013 Done\n",
      "Paper:  https://openaccess.thecvf.com/content_cvpr_2013/papers/Maji_Part_Discovery_from_2013_CVPR_paper.pdf\n",
      "Paper # 44 - Maji_Part_Discovery_from_2013 Done\n",
      "Paper:  https://openaccess.thecvf.com/content_cvpr_2013/papers/Schulter_Alternating_Decision_Forests_2013_CVPR_paper.pdf\n",
      "Paper # 45 - Schulter_Alternating_Decision_Forests_2013 Done\n",
      "Paper:  https://openaccess.thecvf.com/content_cvpr_2013/papers/Fragoso_SWIGS_A_Swift_2013_CVPR_paper.pdf\n",
      "Paper # 46 - Fragoso_SWIGS_A_Swift_2013 Done\n",
      "Paper:  https://openaccess.thecvf.com/content_cvpr_2013/papers/Cao_Recognize_Human_Activities_2013_CVPR_paper.pdf\n",
      "Paper # 47 - Cao_Recognize_Human_Activities_2013 Done\n",
      "Paper:  https://openaccess.thecvf.com/content_cvpr_2013/papers/Ono_A_Convex_Regularize_2013_CVPR_paper.pdf\n",
      "Paper # 48 - Ono_A_Convex_Regularize_2013 Done\n",
      "Paper:  https://openaccess.thecvf.com/content_cvpr_2013/papers/Li_Maximum_Cohesive_Grid_2013_CVPR_paper.pdf\n",
      "Paper # 49 - Li_Maximum_Cohesive_Grid_2013 Done\n",
      "Paper:  https://openaccess.thecvf.com/content_cvpr_2013/papers/Song_Action_Recognition_by_2013_CVPR_paper.pdf\n",
      "Paper # 50 - Song_Action_Recognition_by_2013 Done\n",
      "Paper:  https://openaccess.thecvf.com/content_cvpr_2013/papers/Ochs_An_Iterated_L1_2013_CVPR_paper.pdf\n",
      "Paper # 51 - Ochs_An_Iterated_L1_2013 Done\n",
      "Paper:  https://openaccess.thecvf.com/content_cvpr_2013/papers/Ren_Ensemble_Video_Object_2013_CVPR_paper.pdf\n",
      "Paper # 52 - Ren_Ensemble_Video_Object_2013 Done\n",
      "Paper:  https://openaccess.thecvf.com/content_cvpr_2013/papers/Lucchi_Learning_for_Structured_2013_CVPR_paper.pdf\n",
      "Paper # 53 - Lucchi_Learning_for_Structured_2013 Done\n",
      "Paper:  https://openaccess.thecvf.com/content_cvpr_2013/papers/Sun_Exploring_Implicit_Image_2013_CVPR_paper.pdf\n",
      "Paper # 54 - Sun_Exploring_Implicit_Image_2013 Done\n",
      "Paper:  https://openaccess.thecvf.com/content_cvpr_2013/papers/Ji_Reconstructing_Gas_Flows_2013_CVPR_paper.pdf\n",
      "Paper # 55 - Ji_Reconstructing_Gas_Flows_2013 Done\n",
      "Paper:  https://openaccess.thecvf.com/content_cvpr_2013/papers/Chandra_Learning_Multiple_Non-linear_2013_CVPR_paper.pdf\n",
      "Paper # 56 - Chandra_Learning_Multiple_Non-linear_2013 Done\n",
      "Paper:  https://openaccess.thecvf.com/content_cvpr_2013/papers/Jacquet_Articulated_and_Restricted_2013_CVPR_paper.pdf\n",
      "Paper # 57 - Jacquet_Articulated_and_Restricted_2013 Done\n",
      "Paper:  https://openaccess.thecvf.com/content_cvpr_2013/papers/Biswas_Simultaneous_Active_Learning_2013_CVPR_paper.pdf\n",
      "Paper # 58 - Biswas_Simultaneous_Active_Learning_2013 Done\n",
      "Paper:  https://openaccess.thecvf.com/content_cvpr_2013/papers/Malti_Monocular_Template-Based_3D_2013_CVPR_paper.pdf\n",
      "Paper # 59 - Malti_Monocular_Template-Based_3D_2013 Done\n",
      "Paper:  https://openaccess.thecvf.com/content_cvpr_2013/papers/Zhou_Multi-view_Photometric_Stereo_2013_CVPR_paper.pdf\n",
      "Paper # 60 - Zhou_Multi-view_Photometric_Stereo_2013 Done\n",
      "Paper:  https://openaccess.thecvf.com/content_cvpr_2013/papers/Hong_A_New_Model_2013_CVPR_paper.pdf\n",
      "Paper # 61 - Hong_A_New_Model_2013 Done\n",
      "Paper:  https://openaccess.thecvf.com/content_cvpr_2013/papers/Vemulapalli_Kernel_Learning_for_2013_CVPR_paper.pdf\n",
      "Paper # 62 - Vemulapalli_Kernel_Learning_for_2013 Done\n",
      "Paper:  https://openaccess.thecvf.com/content_cvpr_2013/papers/Tighe_Finding_Things_Image_2013_CVPR_paper.pdf\n",
      "Paper # 63 - Tighe_Finding_Things_Image_2013 Done\n",
      "Paper:  https://openaccess.thecvf.com/content_cvpr_2013/papers/Ma_Complex_Event_Detection_2013_CVPR_paper.pdf\n",
      "Paper # 64 - Ma_Complex_Event_Detection_2013 Done\n",
      "Paper:  https://openaccess.thecvf.com/content_cvpr_2013/papers/Endres_Learning_Collections_of_2013_CVPR_paper.pdf\n",
      "Paper # 65 - Endres_Learning_Collections_of_2013 Done\n",
      "Paper:  https://openaccess.thecvf.com/content_cvpr_2013/papers/Zhang_FrameBreak_Dramatic_Image_2013_CVPR_paper.pdf\n",
      "Paper # 66 - Zhang_FrameBreak_Dramatic_Image_2013 Done\n",
      "Paper:  https://openaccess.thecvf.com/content_cvpr_2013/papers/Martinovic_Bayesian_Grammar_Learning_2013_CVPR_paper.pdf\n",
      "Paper # 67 - Martinovic_Bayesian_Grammar_Learning_2013 Done\n",
      "Paper:  https://openaccess.thecvf.com/content_cvpr_2013/papers/Agrawal_Single_Image_Calibration_2013_CVPR_paper.pdf\n",
      "Paper # 68 - Agrawal_Single_Image_Calibration_2013 Done\n",
      "Paper:  https://openaccess.thecvf.com/content_cvpr_2013/papers/Yuan_3D_R_Transform_2013_CVPR_paper.pdf\n",
      "Paper # 69 - Yuan_3D_R_Transform_2013 Done\n",
      "Paper:  https://openaccess.thecvf.com/content_cvpr_2013/papers/Ryoo_First-Person_Activity_Recognition_2013_CVPR_paper.pdf\n",
      "Paper # 70 - Ryoo_First-Person_Activity_Recognition_2013 Done\n",
      "Paper:  https://openaccess.thecvf.com/content_cvpr_2013/papers/Wang_Sparse_Subspace_Denoising_2013_CVPR_paper.pdf\n",
      "Paper # 71 - Wang_Sparse_Subspace_Denoising_2013 Done\n",
      "Paper:  https://openaccess.thecvf.com/content_cvpr_2013/papers/Choi_Adding_Unlabeled_Samples_2013_CVPR_paper.pdf\n",
      "Paper # 72 - Choi_Adding_Unlabeled_Samples_2013 Done\n",
      "Paper:  https://openaccess.thecvf.com/content_cvpr_2013/papers/Ayed_Auxiliary_Cuts_for_2013_CVPR_paper.pdf\n",
      "Paper # 73 - Ayed_Auxiliary_Cuts_for_2013 Done\n",
      "Paper:  https://openaccess.thecvf.com/content_cvpr_2013/papers/Bartoli_Template-Based_Isometric_Deformable_2013_CVPR_paper.pdf\n",
      "Paper # 74 - Bartoli_Template-Based_Isometric_Deformable_2013 Done\n",
      "Paper:  https://openaccess.thecvf.com/content_cvpr_2013/papers/Zhang_Binary_Code_Ranking_2013_CVPR_paper.pdf\n",
      "Paper # 75 - Zhang_Binary_Code_Ranking_2013 Done\n",
      "Paper:  https://openaccess.thecvf.com/content_cvpr_2013/papers/Guo_Video_Editing_with_2013_CVPR_paper.pdf\n",
      "Paper # 76 - Guo_Video_Editing_with_2013 Done\n",
      "Paper:  https://openaccess.thecvf.com/content_cvpr_2013/papers/Rubinstein_Unsupervised_Joint_Object_2013_CVPR_paper.pdf\n",
      "Paper # 77 - Rubinstein_Unsupervised_Joint_Object_2013 Done\n",
      "Paper:  https://openaccess.thecvf.com/content_cvpr_2013/papers/Li_Learning_SURF_Cascade_2013_CVPR_paper.pdf\n",
      "Paper # 78 - Li_Learning_SURF_Cascade_2013 Done\n",
      "Paper:  https://openaccess.thecvf.com/content_cvpr_2013/papers/Zimmer_Efficient_Computation_of_2013_CVPR_paper.pdf\n",
      "Paper # 79 - Zimmer_Efficient_Computation_of_2013 Done\n",
      "Paper:  https://openaccess.thecvf.com/content_cvpr_2013/papers/Liu_Learning_Discriminative_Illumination_2013_CVPR_paper.pdf\n",
      "Paper # 80 - Liu_Learning_Discriminative_Illumination_2013 Done\n",
      "Paper:  https://openaccess.thecvf.com/content_cvpr_2013/papers/Li_Illumination_Estimation_Based_2013_CVPR_paper.pdf\n",
      "Paper # 81 - Li_Illumination_Estimation_Based_2013 Done\n",
      "Paper:  https://openaccess.thecvf.com/content_cvpr_2013/papers/Bergamo_Leveraging_Structure_from_2013_CVPR_paper.pdf\n",
      "Paper # 82 - Bergamo_Leveraging_Structure_from_2013 Done\n",
      "Paper:  https://openaccess.thecvf.com/content_cvpr_2013/papers/Hao_Efficient_2D-to-3D_Correspondence_2013_CVPR_paper.pdf\n",
      "Paper # 83 - Hao_Efficient_2D-to-3D_Correspondence_2013 Done\n",
      "Paper:  https://openaccess.thecvf.com/content_cvpr_2013/papers/Wang_Weakly_Supervised_Learning_2013_CVPR_paper.pdf\n",
      "Paper # 84 - Wang_Weakly_Supervised_Learning_2013 Done\n",
      "Paper:  https://openaccess.thecvf.com/content_cvpr_2013/papers/Kim_Jointly_Aligning_and_2013_CVPR_paper.pdf\n",
      "Paper # 85 - Kim_Jointly_Aligning_and_2013 Done\n",
      "Paper:  https://openaccess.thecvf.com/content_cvpr_2013/papers/Yun_Studying_Relationships_between_2013_CVPR_paper.pdf\n",
      "Paper # 86 - Yun_Studying_Relationships_between_2013 Done\n",
      "Paper:  https://openaccess.thecvf.com/content_cvpr_2013/papers/Salas-Moreno_SLAM_Simultaneous_Localisation_2013_CVPR_paper.pdf\n",
      "Paper # 87 - Salas-Moreno_SLAM_Simultaneous_Localisation_2013 Done\n",
      "Paper:  https://openaccess.thecvf.com/content_cvpr_2013/papers/Chari_A_Theory_of_2013_CVPR_paper.pdf\n",
      "Paper # 88 - Chari_A_Theory_of_2013 Done\n",
      "Paper:  https://openaccess.thecvf.com/content_cvpr_2013/papers/Zhang_Learning_Structured_Low-Rank_2013_CVPR_paper.pdf\n",
      "Paper # 89 - Zhang_Learning_Structured_Low-Rank_2013 Done\n",
      "Paper:  https://openaccess.thecvf.com/content_cvpr_2013/papers/Shen_Detecting_and_Aligning_2013_CVPR_paper.pdf\n",
      "Paper # 90 - Shen_Detecting_and_Aligning_2013 Done\n",
      "Paper:  https://openaccess.thecvf.com/content_cvpr_2013/papers/Kumar_Towards_Contactless_Low-Cost_2013_CVPR_paper.pdf\n",
      "Paper # 91 - Kumar_Towards_Contactless_Low-Cost_2013 Done\n",
      "Paper:  https://openaccess.thecvf.com/content_cvpr_2013/papers/Kae_Augmenting_CRFs_with_2013_CVPR_paper.pdf\n",
      "Paper # 92 - Kae_Augmenting_CRFs_with_2013 Done\n",
      "Paper:  https://openaccess.thecvf.com/content_cvpr_2013/papers/Sadovnik_Its_Not_Polite_2013_CVPR_paper.pdf\n",
      "Paper # 93 - Sadovnik_Its_Not_Polite_2013 Done\n",
      "Paper:  https://openaccess.thecvf.com/content_cvpr_2013/papers/Turetken_Reconstructing_Loopy_Curvilinear_2013_CVPR_paper.pdf\n",
      "Paper # 94 - Turetken_Reconstructing_Loopy_Curvilinear_2013 Done\n",
      "Paper:  https://openaccess.thecvf.com/content_cvpr_2013/papers/Liu_Weakly-Supervised_Dual_Clustering_2013_CVPR_paper.pdf\n",
      "Paper # 95 - Liu_Weakly-Supervised_Dual_Clustering_2013 Done\n",
      "Paper:  https://openaccess.thecvf.com/content_cvpr_2013/papers/Shi_Multi-target_Tracking_by_2013_CVPR_paper.pdf\n",
      "Paper # 96 - Shi_Multi-target_Tracking_by_2013 Done\n",
      "Paper:  https://openaccess.thecvf.com/content_cvpr_2013/papers/Zhang_Multi-image_Blind_Deblurring_2013_CVPR_paper.pdf\n",
      "Paper # 97 - Zhang_Multi-image_Blind_Deblurring_2013 Done\n",
      "Paper:  https://openaccess.thecvf.com/content_cvpr_2013/papers/Zeng_Templateless_Quasi-rigid_Shape_2013_CVPR_paper.pdf\n",
      "Paper # 98 - Zeng_Templateless_Quasi-rigid_Shape_2013 Done\n",
      "Paper:  https://openaccess.thecvf.com/content_cvpr_2013/papers/Zhang_Cross-View_Action_Recognition_2013_CVPR_paper.pdf\n",
      "Paper # 99 - Zhang_Cross-View_Action_Recognition_2013 Done\n",
      "Paper:  https://openaccess.thecvf.com/content_cvpr_2013/papers/Tao_Non-rigid_Structure_from_2013_CVPR_paper.pdf\n",
      "Paper # 100 - Tao_Non-rigid_Structure_from_2013 Done\n",
      "Paper:  https://openaccess.thecvf.com/content_cvpr_2013/papers/Schmidt_Discriminative_Non-blind_Deblurring_2013_CVPR_paper.pdf\n",
      "Paper # 101 - Schmidt_Discriminative_Non-blind_Deblurring_2013 Done\n",
      "Paper:  https://openaccess.thecvf.com/content_cvpr_2013/papers/Shi_Prostate_Segmentation_in_2013_CVPR_paper.pdf\n",
      "Paper # 102 - Shi_Prostate_Segmentation_in_2013 Done\n",
      "Paper:  https://openaccess.thecvf.com/content_cvpr_2013/papers/Rujikietgumjorn_Optimized_Pedestrian_Detection_2013_CVPR_paper.pdf\n",
      "Paper # 103 - Rujikietgumjorn_Optimized_Pedestrian_Detection_2013 Done\n",
      "Paper:  https://openaccess.thecvf.com/content_cvpr_2013/papers/Sifre_Rotation_Scaling_and_2013_CVPR_paper.pdf\n",
      "Paper # 104 - Sifre_Rotation_Scaling_and_2013 Done\n",
      "Paper:  https://openaccess.thecvf.com/content_cvpr_2013/papers/Xu_A_Minimum_Error_2013_CVPR_paper.pdf\n",
      "Paper # 105 - Xu_A_Minimum_Error_2013 Done\n",
      "Paper:  https://openaccess.thecvf.com/content_cvpr_2013/papers/Raptis_Poselet_Key-Framing_A_2013_CVPR_paper.pdf\n",
      "Paper # 106 - Raptis_Poselet_Key-Framing_A_2013 Done\n",
      "Paper:  https://openaccess.thecvf.com/content_cvpr_2013/papers/Liu_Probabilistic_Label_Trees_2013_CVPR_paper.pdf\n",
      "Paper # 107 - Liu_Probabilistic_Label_Trees_2013 Done\n",
      "Paper:  https://openaccess.thecvf.com/content_cvpr_2013/papers/Hornacek_Depth_Super_Resolution_2013_CVPR_paper.pdf\n",
      "Paper # 108 - Hornacek_Depth_Super_Resolution_2013 Done\n",
      "Paper:  https://openaccess.thecvf.com/content_cvpr_2013/papers/Weiss_SCALPEL_Segmentation_Cascades_2013_CVPR_paper.pdf\n",
      "Paper # 109 - Weiss_SCALPEL_Segmentation_Cascades_2013 Done\n",
      "Paper:  https://openaccess.thecvf.com/content_cvpr_2013/papers/Brubaker_Lost_Leveraging_the_2013_CVPR_paper.pdf\n",
      "Paper # 110 - Brubaker_Lost_Leveraging_the_2013 Done\n",
      "Paper:  https://openaccess.thecvf.com/content_cvpr_2013/papers/Fenzi_Class_Generative_Models_2013_CVPR_paper.pdf\n",
      "Paper # 111 - Fenzi_Class_Generative_Models_2013 Done\n",
      "Paper:  https://openaccess.thecvf.com/content_cvpr_2013/papers/Revaud_Event_Retrieval_in_2013_CVPR_paper.pdf\n",
      "Paper # 112 - Revaud_Event_Retrieval_in_2013 Done\n",
      "Paper:  https://openaccess.thecvf.com/content_cvpr_2013/papers/Siva_Looking_Beyond_the_2013_CVPR_paper.pdf\n",
      "Paper # 113 - Siva_Looking_Beyond_the_2013 Done\n",
      "Paper:  https://openaccess.thecvf.com/content_cvpr_2013/papers/Chu_Selective_Transfer_Machine_2013_CVPR_paper.pdf\n",
      "Paper # 114 - Chu_Selective_Transfer_Machine_2013 Done\n",
      "Paper:  https://openaccess.thecvf.com/content_cvpr_2013/papers/Lee_Procrustean_Normal_Distribution_2013_CVPR_paper.pdf\n",
      "Paper # 115 - Lee_Procrustean_Normal_Distribution_2013 Done\n",
      "Paper:  https://openaccess.thecvf.com/content_cvpr_2013/papers/Zhang_Blur_Processing_Using_2013_CVPR_paper.pdf\n",
      "Paper # 116 - Zhang_Blur_Processing_Using_2013 Done\n",
      "Paper:  https://openaccess.thecvf.com/content_cvpr_2013/papers/Ye_Video_Enhancement_of_2013_CVPR_paper.pdf\n",
      "Paper # 117 - Ye_Video_Enhancement_of_2013 Done\n",
      "Paper:  https://openaccess.thecvf.com/content_cvpr_2013/papers/Liu_Joint_Geodesic_Upsampling_2013_CVPR_paper.pdf\n",
      "Paper # 118 - Liu_Joint_Geodesic_Upsampling_2013 Done\n",
      "Paper:  https://openaccess.thecvf.com/content_cvpr_2013/papers/Yadollahpour_Discriminative_Re-ranking_of_2013_CVPR_paper.pdf\n",
      "Paper # 119 - Yadollahpour_Discriminative_Re-ranking_of_2013 Done\n",
      "Paper:  https://openaccess.thecvf.com/content_cvpr_2013/papers/Xu_Incorporating_User_Interaction_2013_CVPR_paper.pdf\n"
     ]
    },
    {
     "name": "stderr",
     "output_type": "stream",
     "text": [
      " 77%|███████████████████████████████████████████████████████████                  | 33/43 [01:30<00:27,  2.75s/it]"
     ]
    },
    {
     "name": "stdout",
     "output_type": "stream",
     "text": [
      "Paper # 120 - Xu_Incorporating_User_Interaction_2013 Failed\n"
     ]
    },
    {
     "name": "stderr",
     "output_type": "stream",
     "text": [
      "\n"
     ]
    },
    {
     "ename": "ValueError",
     "evalue": "write to closed file",
     "output_type": "error",
     "traceback": [
      "\u001b[0;31m---------------------------------------------------------------------------\u001b[0m",
      "\u001b[0;31mValueError\u001b[0m                                Traceback (most recent call last)",
      "Cell \u001b[0;32mIn[3], line 82\u001b[0m\n\u001b[1;32m     80\u001b[0m \u001b[38;5;28;01mfor\u001b[39;00m year \u001b[38;5;129;01min\u001b[39;00m tqdm(\u001b[38;5;28mrange\u001b[39m(\u001b[38;5;241m1980\u001b[39m, \u001b[38;5;241m2023\u001b[39m)):\n\u001b[1;32m     81\u001b[0m     downloader \u001b[38;5;241m=\u001b[39m CVPRDownloader(year, \u001b[38;5;124m'\u001b[39m\u001b[38;5;124m/gscratch/prl/wagnew3/microsoft_academic_graph/cvpr_papers/\u001b[39m\u001b[38;5;124m'\u001b[39m)\n\u001b[0;32m---> 82\u001b[0m     \u001b[43mdownloader\u001b[49m\u001b[38;5;241;43m.\u001b[39;49m\u001b[43mbulk_download\u001b[49m\u001b[43m(\u001b[49m\u001b[43m)\u001b[49m\n",
      "Cell \u001b[0;32mIn[3], line 78\u001b[0m, in \u001b[0;36mCVPRDownloader.bulk_download\u001b[0;34m(self)\u001b[0m\n\u001b[1;32m     76\u001b[0m         \u001b[38;5;28mself\u001b[39m\u001b[38;5;241m.\u001b[39mdownload_file(pdf_link[xi])\n\u001b[1;32m     77\u001b[0m \u001b[38;5;28;01melse\u001b[39;00m:\n\u001b[0;32m---> 78\u001b[0m     \u001b[38;5;28;43mself\u001b[39;49m\u001b[38;5;241;43m.\u001b[39;49m\u001b[43mdownload_file\u001b[49m\u001b[43m(\u001b[49m\u001b[43m)\u001b[49m\n",
      "Cell \u001b[0;32mIn[3], line 67\u001b[0m, in \u001b[0;36mCVPRDownloader.download_file\u001b[0;34m(self, download_url)\u001b[0m\n\u001b[1;32m     64\u001b[0m \u001b[38;5;28;01mexcept\u001b[39;00m:\n\u001b[1;32m     65\u001b[0m     \u001b[38;5;28mprint\u001b[39m(\u001b[38;5;124m\"\u001b[39m\u001b[38;5;124mPaper # \u001b[39m\u001b[38;5;132;01m{}\u001b[39;00m\u001b[38;5;124m - \u001b[39m\u001b[38;5;132;01m{}\u001b[39;00m\u001b[38;5;124m Failed\u001b[39m\u001b[38;5;124m\"\u001b[39m\u001b[38;5;241m.\u001b[39mformat(paper_count, title))\n\u001b[0;32m---> 67\u001b[0m \u001b[43mfile\u001b[49m\u001b[38;5;241;43m.\u001b[39;49m\u001b[43mwrite\u001b[49m\u001b[43m(\u001b[49m\u001b[43mresponse\u001b[49m\u001b[38;5;241;43m.\u001b[39;49m\u001b[43mread\u001b[49m\u001b[43m(\u001b[49m\u001b[43m)\u001b[49m\u001b[43m)\u001b[49m\n\u001b[1;32m     68\u001b[0m file\u001b[38;5;241m.\u001b[39mclose()\n\u001b[1;32m     69\u001b[0m \u001b[38;5;28mprint\u001b[39m(\u001b[38;5;124m\"\u001b[39m\u001b[38;5;124mPaper # \u001b[39m\u001b[38;5;132;01m{}\u001b[39;00m\u001b[38;5;124m - \u001b[39m\u001b[38;5;132;01m{}\u001b[39;00m\u001b[38;5;124m Done\u001b[39m\u001b[38;5;124m\"\u001b[39m\u001b[38;5;241m.\u001b[39mformat(paper_count, title))\n",
      "\u001b[0;31mValueError\u001b[0m: write to closed file"
     ]
    }
   ],
   "source": [
    "# https://github.com/kjanjua26/Bulk_CV_Paper_Downloader\n",
    "\n",
    "import argparse\n",
    "from glob import glob\n",
    "from tqdm import tqdm\n",
    "from urllib.request import urlopen\n",
    "import requests\n",
    "from bs4 import BeautifulSoup\n",
    "import glob \n",
    "import pandas as pd \n",
    "import re\n",
    "\n",
    "class CVPRDownloader:\n",
    "    def __init__(self, year, download_path):\n",
    "        self.url = 'http://openaccess.thecvf.com/CVPR{}.py'.format(year)\n",
    "        print(self.url)\n",
    "        self.year=year\n",
    "        self.download_path=download_path\n",
    "    \n",
    "    def get_pdf(self):\n",
    "        \"\"\"\n",
    "        CVPR2018 onwards segregates the paper listings in days first.\n",
    "        \"\"\"\n",
    "\n",
    "        pdf_link = []\n",
    "        r = requests.get(self.url)\n",
    "        soup = BeautifulSoup(r.content, \"html.parser\")\n",
    "        titles_ = soup.find_all('dt', attrs={'class':'ptitle'})\n",
    "        pdfs_ = soup.find_all('dd')\n",
    "        for i in pdfs_:\n",
    "            date = i.text.split(' ')[-1].replace(']', '')\n",
    "            if '[<a href' in str(i):\n",
    "                link_ = str(i).split('\\n')[1].split('=')[1].split(\">\")[0].replace('\"','')\n",
    "                comp_link = 'http://openaccess.thecvf.com/'+link_+'='+date\n",
    "                pdf_link.append(comp_link)\n",
    "        return pdf_link\n",
    "\n",
    "    def download_file(self, download_url=None):\n",
    "        \"\"\"\n",
    "        Download the papers in the specified folder.\n",
    "        \"\"\"\n",
    "\n",
    "        paper_count = 0\n",
    "        paper_links = []\n",
    "        \n",
    "        if download_url is None:\n",
    "            r = requests.get(self.url)\n",
    "        else:\n",
    "            r = requests.get(download_url)\n",
    "        \n",
    "        soup = BeautifulSoup(r.content, \"html.parser\")\n",
    "        pdfs_ = soup.find_all('dd')\n",
    "        for ix in str(pdfs_).split('\\n'):\n",
    "            if '[<a href=\"content_CVPR_' or '[<a href=\"content_cvpr_' in ix:\n",
    "                if 'papers' in ix:\n",
    "                    paper_count += 1\n",
    "                    link = ix.split('[<a href=\"')[-1].split('\">')[0]\n",
    "                    paper_link = 'https://openaccess.thecvf.com/' + link\n",
    "                    print('Paper: ', paper_link)\n",
    "                    title = link.split('/')[-1].split('.')[0].split('_CVPR_')[0]\n",
    "                    try:\n",
    "                        response = urlopen(paper_link)\n",
    "                        file = open(self.download_path + \"/{}.pdf\".format(title), 'wb')\n",
    "                    except:\n",
    "                        print(\"Paper # {} - {} Failed\".format(paper_count, title))\n",
    "\n",
    "                    file.write(response.read())\n",
    "                    file.close()\n",
    "                    print(\"Paper # {} - {} Done\".format(paper_count, title))\n",
    "\n",
    "    def bulk_download(self):\n",
    "        year_int = int(self.year)\n",
    "        if year_int >= 2018:\n",
    "            pdf_link = self.get_pdf()\n",
    "            for xi in range(len(pdf_link)):\n",
    "                self.download_file(pdf_link[xi])\n",
    "        else:\n",
    "            self.download_file()\n",
    "\n",
    "for year in tqdm(range(1980, 2023)):\n",
    "    downloader = CVPRDownloader(year, '/gscratch/prl/wagnew3/microsoft_academic_graph/cvpr_papers/')\n",
    "    downloader.bulk_download()"
   ]
  },
  {
   "cell_type": "code",
   "execution_count": null,
   "id": "b3e0809d-de1d-4f57-81fd-9b8d80dd0d88",
   "metadata": {},
   "outputs": [],
   "source": [
    "from bs4 import BeautifulSoup\n",
    "import requests\n",
    "from seleniumrequests import Firefox\n",
    "\n",
    "# Simple usage with built-in WebDrivers:\n",
    "\n",
    "# def get_paper(paper_name):\n",
    "paper_name=\"Imagenet: A large-scale hierarchical image database\"\n",
    "headers = {'User-Agent':'Mozilla/5.0 (Macintosh; Intel Mac OS X 10_11_2) AppleWebKit/601.3.9 (KHTML, like Gecko) Version/9.0.2 Safari/601.3.9'}\n",
    "search_paper_name=paper_name.replace('+', '%2B').replace('%', '%25').replace('&', '&26').replace(':', '%3A').replace(' ', '%20')\n",
    "url = f'https://www.semanticscholar.org/search?q={search_paper_name}&sort=relevance'\n",
    "print(url)\n",
    "response=requests.get(url,headers=headers)\n",
    "soup=BeautifulSoup(response.content,'lxml')\n",
    "i = soup.findAll(text=True)\n",
    "print(i)\n",
    "item=soup.find_all(\"div\", class_=\"cl-paper-row serp-papers__paper-row paper-row-normal\")\n",
    "\n",
    "    # ref=item.select('[data-clk-atid]')\n",
    "    # name=ref[1].text\n",
    "    # url=ref[0].attrs['href']\n",
    "    # print(url)\n",
    "    # if paper_name.lower()!=name.lower():\n",
    "    #     print(f'names dont match! {paper_name.lower()} {name.lower()}')\n",
    "    \n",
    "\n",
    "# paper_name=\"Imagenet: A large-scale hierarchical image database\"\n",
    "# get_paper(paper_name)"
   ]
  },
  {
   "cell_type": "code",
   "execution_count": null,
   "id": "58dfe266-db80-40f9-8c49-5035369ff4c6",
   "metadata": {},
   "outputs": [],
   "source": [
    "from stem import Signal\n",
    "from stem.control import Controller\n",
    "\n",
    "with Controller.from_port(port = 9051) as controller:\n",
    "    controller.authenticate(password='your password set for tor controller port in torrc')\n",
    "    print(\"Success!\")\n",
    "    controller.signal(Signal.NEWNYM)\n",
    "    print(\"New Tor connection processed\")"
   ]
  },
  {
   "cell_type": "code",
   "execution_count": null,
   "id": "c66eacb2-3f51-4e78-bfc2-216e1b59f748",
   "metadata": {},
   "outputs": [],
   "source": [
    "import pypdfium2 as pdfium\n",
    "import requests\n",
    "from tika import parser\n",
    "from PyPDF2 import PdfReader\n",
    "\n",
    "paper_name=\"Imagenet: A large-scale hierarchical image database\"\n",
    "url = 'https://ieeexplore.ieee.org/iel5/5191365/5206488/05206848.pdf'\n",
    "headers = {'User-Agent':'Mozilla/5.0 (Macintosh; Intel Mac OS X 10_11_2) AppleWebKit/601.3.9 (KHTML, like Gecko) Version/9.0.2 Safari/601.3.9'}\n",
    "response = requests.get(url,headers=headers)\n",
    "\n",
    "file_name=f'/gscratch/prl/wagnew3/microsoft_academic_graph/scratch/{paper_name}.pdf'\n",
    "print(file_name)\n",
    "pdf = open(file_name, 'wb')\n",
    "pdf.write(response.content)\n",
    "print(len(response.content))\n",
    "pdf.close()\n",
    "\n",
    "EOF_MARKER = b'%%EOF'\n",
    "\n",
    "with open(file_name, 'rb') as f:\n",
    "    contents = f.read()\n",
    "    # check if EOF is somewhere else in the file\n",
    "    if EOF_MARKER in contents:\n",
    "        # we can remove the early %%EOF and put it at the end of the file\n",
    "        contents = contents.replace(EOF_MARKER, b'')\n",
    "        contents = contents + EOF_MARKER\n",
    "    else:\n",
    "        # Some files really don't have an EOF marker\n",
    "        # In this case it helped to manually review the end of the file\n",
    "        print(contents[-8:]) # see last characters at the end of the file\n",
    "        # printed b'\\n%%EO%E'\n",
    "        contents = contents[:-6] + EOF_MARKER\n",
    "    with open(file_name.replace('.pdf', '') + '_fixed.pdf', 'wb') as f:\n",
    "        f.write(contents)\n",
    "\n",
    "fixed_name=file_name.replace('.pdf', '') + '_fixed.pdf'\n",
    "reader = PdfReader(fixed_name)\n",
    "text = \"\"\n",
    "for page in reader.pages:\n",
    "    text += page.extract_text() + \"\\n\"\n",
    "\n",
    "print(text)"
   ]
  },
  {
   "cell_type": "code",
   "execution_count": null,
   "id": "b3770d88-f48e-47fb-b188-afb34031835d",
   "metadata": {},
   "outputs": [],
   "source": []
  }
 ],
 "metadata": {
  "kernelspec": {
   "display_name": "Python 3 (ipykernel)",
   "language": "python",
   "name": "python3"
  },
  "language_info": {
   "codemirror_mode": {
    "name": "ipython",
    "version": 3
   },
   "file_extension": ".py",
   "mimetype": "text/x-python",
   "name": "python",
   "nbconvert_exporter": "python",
   "pygments_lexer": "ipython3",
   "version": "3.8.0"
  }
 },
 "nbformat": 4,
 "nbformat_minor": 5
}
